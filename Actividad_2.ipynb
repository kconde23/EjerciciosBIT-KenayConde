{
 "cells": [
  {
   "cell_type": "markdown",
   "id": "1dee4bac",
   "metadata": {},
   "source": [
    "### Actividad 2: Control de flujo - Clasificación de Estudiantes\n",
    "\n",
    "Parte 1: Bucle for con edades\n",
    "\n",
    "1. Crea una lista de edades: [12, 17, 8, 15, 22, 9, 30, 25].\n",
    "2. Usa un bucle for para iterar sobre cada edad:\n",
    "3. Si la edad es 25, imprime \"¡Encontramos al estudiante de 25 años! Deteniendo el análisis.\" y termina el bucle con break.\n",
    "4. Si la edad es menor a 10, omite esa iteración con continue.\n",
    "5. Si la edad es 18 o mayor, imprime \"Adulto: [edad] años\".\n",
    "6. En cualquier otro caso, imprime \"Menor: [edad] años\"."
   ]
  },
  {
   "cell_type": "code",
   "execution_count": 1,
   "id": "4e78420a",
   "metadata": {},
   "outputs": [
    {
     "name": "stdout",
     "output_type": "stream",
     "text": [
      "Menor: 12 años\n",
      "Menor: 17 años\n",
      "Menor: 15 años\n",
      "Adulto: 22 años\n",
      "Adulto: 30 años\n",
      "¡Encontramos al estudiante de 25 años! Deteniendo el análisis.\n"
     ]
    }
   ],
   "source": [
    "Edades = [12, 17, 8, 15, 22, 9, 30, 25]\n",
    "for edad in Edades:\n",
    "    if edad == 25:\n",
    "        print(\"¡Encontramos al estudiante de 25 años! Deteniendo el análisis.\")\n",
    "        break\n",
    "    if edad < 10:\n",
    "        continue\n",
    "    if edad >= 18:\n",
    "        print(f\"Adulto: {edad} años\")\n",
    "    else:\n",
    "        print(f\"Menor: {edad} años\")"
   ]
  },
  {
   "cell_type": "markdown",
   "id": "01c3006e",
   "metadata": {},
   "source": [
    "Parte 2: Bucle while con nombres\n",
    "\n",
    "1. Crea una lista de nombres: [\"Juan\", \"Pedro\", \"Jorge\", \"María\",\"Ana\"].\n",
    "2. Usa un bucle while para iterar sobre los nombres:\n",
    "3. Si el nombre es \"Ana\", imprime \"¡Ana está en la lista!\" y termina el bucle con break.\n",
    "4. Si el nombre empieza con \"J\", omite ese nombre con continue.\n",
    "5. En cualquier otro caso, imprime el nombre."
   ]
  },
  {
   "cell_type": "code",
   "execution_count": 5,
   "id": "414c4aa0",
   "metadata": {},
   "outputs": [
    {
     "name": "stdout",
     "output_type": "stream",
     "text": [
      "Pedro\n",
      "María\n",
      "¡Ana está en la lista!\n"
     ]
    }
   ],
   "source": [
    "nombres = [\"Juan\", \"Pedro\", \"Jorge\", \"María\",\"Ana\"]\n",
    "n = 0\n",
    "while n < len(nombres):\n",
    "    nombre = nombres[n]\n",
    "    n += 1\n",
    "    \n",
    "    if nombre == \"Ana\":\n",
    "        print(\"¡Ana está en la lista!\")\n",
    "        break\n",
    "    elif nombre.startswith(\"J\"):\n",
    "        continue\n",
    "    else:\n",
    "        print(nombre)"
   ]
  }
 ],
 "metadata": {
  "kernelspec": {
   "display_name": "base",
   "language": "python",
   "name": "python3"
  },
  "language_info": {
   "codemirror_mode": {
    "name": "ipython",
    "version": 3
   },
   "file_extension": ".py",
   "mimetype": "text/x-python",
   "name": "python",
   "nbconvert_exporter": "python",
   "pygments_lexer": "ipython3",
   "version": "3.13.5"
  }
 },
 "nbformat": 4,
 "nbformat_minor": 5
}
