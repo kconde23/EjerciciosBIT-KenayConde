{
 "cells": [
  {
   "cell_type": "markdown",
   "id": "abe9da25",
   "metadata": {},
   "source": [
    "### Objetivo: Administrar un inventario de una tienda\n",
    "\n",
    "Inventario inicial:\n",
    "inventario = [\n",
    "    {\"producto\": \"camisa\", \"precio\": 25900, \"stock\": \"11\"},\n",
    "    {\"producto\": \"pantalón\", \"precio\": 39900, \"stock\": \"23\"},\n",
    "]\n",
    "\n",
    "\n",
    "1. Añade un nuevo producto al inventario con las siguientes caracteristicas: {\"producto\": \"abrigo\", \"precio\": 50000, \"stock\": \"2\"}\n",
    "2. Convierte los valores del stock en numeros enteros\n",
    "3. Actualiza el precio de cada producto sumando 10000 al precio original\n",
    "4. Imprime cada producto del inventario y sus caracteristicas con el siguiente formato:\n",
    "5. print(f\"Hay {stock} unidades del producto {producto}. Su precio por unidad es de {precio}\")"
   ]
  },
  {
   "cell_type": "code",
   "execution_count": 1,
   "id": "2037bfb0",
   "metadata": {},
   "outputs": [
    {
     "name": "stdout",
     "output_type": "stream",
     "text": [
      "Hay 11 unidades del producto camisa. Su precio por unidad es de 35900\n",
      "Hay 23 unidades del producto pantalón. Su precio por unidad es de 49900\n",
      "Hay 2 unidades del producto abrigo. Su precio por unidad es de 60000\n"
     ]
    }
   ],
   "source": [
    "inventario = [\n",
    "    {\"producto\": \"camisa\", \"precio\": 25900, \"stock\": \"11\"},\n",
    "    {\"producto\": \"pantalón\", \"precio\": 39900, \"stock\": \"23\"},\n",
    "]\n",
    "inventario.append({\"producto\": \"abrigo\", \"precio\": 50000, \"stock\": \"2\"})\n",
    "for producto in inventario:\n",
    "    producto[\"stock\"] = int(producto[\"stock\"])\n",
    "    producto[\"precio\"] += 10000\n",
    "    print(f\"Hay {producto['stock']} unidades del producto {producto['producto']}. Su precio por unidad es de {producto['precio']}\")"
   ]
  }
 ],
 "metadata": {
  "kernelspec": {
   "display_name": "base",
   "language": "python",
   "name": "python3"
  },
  "language_info": {
   "codemirror_mode": {
    "name": "ipython",
    "version": 3
   },
   "file_extension": ".py",
   "mimetype": "text/x-python",
   "name": "python",
   "nbconvert_exporter": "python",
   "pygments_lexer": "ipython3",
   "version": "3.13.5"
  }
 },
 "nbformat": 4,
 "nbformat_minor": 5
}
